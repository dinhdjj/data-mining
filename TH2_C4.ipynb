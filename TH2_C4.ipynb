{
 "cells": [
  {
   "cell_type": "markdown",
   "metadata": {},
   "source": [
    "# TH2 - câu 5 - python "
   ]
  },
  {
   "cell_type": "markdown",
   "metadata": {},
   "source": [
    "## Import packages"
   ]
  },
  {
   "cell_type": "code",
   "execution_count": 2,
   "metadata": {},
   "outputs": [],
   "source": [
    "import pandas as pd"
   ]
  },
  {
   "cell_type": "markdown",
   "metadata": {},
   "source": [
    "## Prepare data frames"
   ]
  },
  {
   "cell_type": "code",
   "execution_count": 13,
   "metadata": {},
   "outputs": [
    {
     "data": {
      "text/html": [
       "<div>\n",
       "<style scoped>\n",
       "    .dataframe tbody tr th:only-of-type {\n",
       "        vertical-align: middle;\n",
       "    }\n",
       "\n",
       "    .dataframe tbody tr th {\n",
       "        vertical-align: top;\n",
       "    }\n",
       "\n",
       "    .dataframe thead th {\n",
       "        text-align: right;\n",
       "    }\n",
       "</style>\n",
       "<table border=\"1\" class=\"dataframe\">\n",
       "  <thead>\n",
       "    <tr style=\"text-align: right;\">\n",
       "      <th></th>\n",
       "      <th>Unnamed: 0</th>\n",
       "      <th>Code</th>\n",
       "      <th>Diali</th>\n",
       "      <th>GDCD</th>\n",
       "      <th>Hoahoc</th>\n",
       "      <th>KHTN</th>\n",
       "      <th>KHXH</th>\n",
       "      <th>LichSu</th>\n",
       "      <th>Ngoaingu</th>\n",
       "      <th>Nguvan</th>\n",
       "      <th>Sinhhoc</th>\n",
       "      <th>Toan</th>\n",
       "      <th>Vatli</th>\n",
       "      <th>city</th>\n",
       "    </tr>\n",
       "  </thead>\n",
       "  <tbody>\n",
       "    <tr>\n",
       "      <th>0</th>\n",
       "      <td>0</td>\n",
       "      <td>44000001</td>\n",
       "      <td>NaN</td>\n",
       "      <td>NaN</td>\n",
       "      <td>8.00</td>\n",
       "      <td>7.08</td>\n",
       "      <td>NaN</td>\n",
       "      <td>NaN</td>\n",
       "      <td>4.4</td>\n",
       "      <td>7.50</td>\n",
       "      <td>5.50</td>\n",
       "      <td>8.4</td>\n",
       "      <td>7.75</td>\n",
       "      <td>44</td>\n",
       "    </tr>\n",
       "    <tr>\n",
       "      <th>1</th>\n",
       "      <td>1</td>\n",
       "      <td>44000002</td>\n",
       "      <td>NaN</td>\n",
       "      <td>NaN</td>\n",
       "      <td>8.25</td>\n",
       "      <td>7.17</td>\n",
       "      <td>NaN</td>\n",
       "      <td>NaN</td>\n",
       "      <td>NaN</td>\n",
       "      <td>6.00</td>\n",
       "      <td>6.25</td>\n",
       "      <td>7.6</td>\n",
       "      <td>7.00</td>\n",
       "      <td>44</td>\n",
       "    </tr>\n",
       "    <tr>\n",
       "      <th>2</th>\n",
       "      <td>2</td>\n",
       "      <td>44000003</td>\n",
       "      <td>NaN</td>\n",
       "      <td>NaN</td>\n",
       "      <td>4.50</td>\n",
       "      <td>4.92</td>\n",
       "      <td>NaN</td>\n",
       "      <td>NaN</td>\n",
       "      <td>4.0</td>\n",
       "      <td>5.00</td>\n",
       "      <td>5.75</td>\n",
       "      <td>7.0</td>\n",
       "      <td>4.50</td>\n",
       "      <td>44</td>\n",
       "    </tr>\n",
       "    <tr>\n",
       "      <th>3</th>\n",
       "      <td>3</td>\n",
       "      <td>44000004</td>\n",
       "      <td>7.50</td>\n",
       "      <td>9.25</td>\n",
       "      <td>NaN</td>\n",
       "      <td>NaN</td>\n",
       "      <td>8.67</td>\n",
       "      <td>9.25</td>\n",
       "      <td>7.4</td>\n",
       "      <td>6.75</td>\n",
       "      <td>NaN</td>\n",
       "      <td>7.2</td>\n",
       "      <td>NaN</td>\n",
       "      <td>44</td>\n",
       "    </tr>\n",
       "    <tr>\n",
       "      <th>4</th>\n",
       "      <td>4</td>\n",
       "      <td>44000005</td>\n",
       "      <td>8.00</td>\n",
       "      <td>9.00</td>\n",
       "      <td>NaN</td>\n",
       "      <td>NaN</td>\n",
       "      <td>8.50</td>\n",
       "      <td>8.50</td>\n",
       "      <td>9.2</td>\n",
       "      <td>7.00</td>\n",
       "      <td>NaN</td>\n",
       "      <td>7.6</td>\n",
       "      <td>NaN</td>\n",
       "      <td>44</td>\n",
       "    </tr>\n",
       "    <tr>\n",
       "      <th>...</th>\n",
       "      <td>...</td>\n",
       "      <td>...</td>\n",
       "      <td>...</td>\n",
       "      <td>...</td>\n",
       "      <td>...</td>\n",
       "      <td>...</td>\n",
       "      <td>...</td>\n",
       "      <td>...</td>\n",
       "      <td>...</td>\n",
       "      <td>...</td>\n",
       "      <td>...</td>\n",
       "      <td>...</td>\n",
       "      <td>...</td>\n",
       "      <td>...</td>\n",
       "    </tr>\n",
       "    <tr>\n",
       "      <th>1051855</th>\n",
       "      <td>1051855</td>\n",
       "      <td>13007414</td>\n",
       "      <td>5.25</td>\n",
       "      <td>4.25</td>\n",
       "      <td>NaN</td>\n",
       "      <td>NaN</td>\n",
       "      <td>4.08</td>\n",
       "      <td>2.75</td>\n",
       "      <td>2.8</td>\n",
       "      <td>4.00</td>\n",
       "      <td>NaN</td>\n",
       "      <td>3.6</td>\n",
       "      <td>NaN</td>\n",
       "      <td>13</td>\n",
       "    </tr>\n",
       "    <tr>\n",
       "      <th>1051856</th>\n",
       "      <td>1051856</td>\n",
       "      <td>13007415</td>\n",
       "      <td>5.25</td>\n",
       "      <td>6.25</td>\n",
       "      <td>NaN</td>\n",
       "      <td>NaN</td>\n",
       "      <td>5.83</td>\n",
       "      <td>6.00</td>\n",
       "      <td>3.8</td>\n",
       "      <td>5.50</td>\n",
       "      <td>NaN</td>\n",
       "      <td>4.6</td>\n",
       "      <td>NaN</td>\n",
       "      <td>13</td>\n",
       "    </tr>\n",
       "    <tr>\n",
       "      <th>1051857</th>\n",
       "      <td>1051857</td>\n",
       "      <td>13007416</td>\n",
       "      <td>5.75</td>\n",
       "      <td>8.50</td>\n",
       "      <td>NaN</td>\n",
       "      <td>NaN</td>\n",
       "      <td>6.67</td>\n",
       "      <td>5.75</td>\n",
       "      <td>3.4</td>\n",
       "      <td>5.00</td>\n",
       "      <td>NaN</td>\n",
       "      <td>5.4</td>\n",
       "      <td>NaN</td>\n",
       "      <td>13</td>\n",
       "    </tr>\n",
       "    <tr>\n",
       "      <th>1051858</th>\n",
       "      <td>1051858</td>\n",
       "      <td>13007417</td>\n",
       "      <td>7.25</td>\n",
       "      <td>6.75</td>\n",
       "      <td>NaN</td>\n",
       "      <td>NaN</td>\n",
       "      <td>6.25</td>\n",
       "      <td>4.75</td>\n",
       "      <td>2.2</td>\n",
       "      <td>4.50</td>\n",
       "      <td>NaN</td>\n",
       "      <td>5.2</td>\n",
       "      <td>NaN</td>\n",
       "      <td>13</td>\n",
       "    </tr>\n",
       "    <tr>\n",
       "      <th>1051859</th>\n",
       "      <td>1051859</td>\n",
       "      <td>13007418</td>\n",
       "      <td>3.75</td>\n",
       "      <td>4.00</td>\n",
       "      <td>NaN</td>\n",
       "      <td>NaN</td>\n",
       "      <td>3.83</td>\n",
       "      <td>3.75</td>\n",
       "      <td>4.0</td>\n",
       "      <td>4.00</td>\n",
       "      <td>NaN</td>\n",
       "      <td>6.2</td>\n",
       "      <td>NaN</td>\n",
       "      <td>13</td>\n",
       "    </tr>\n",
       "  </tbody>\n",
       "</table>\n",
       "<p>1051860 rows × 14 columns</p>\n",
       "</div>"
      ],
      "text/plain": [
       "         Unnamed: 0      Code  Diali  GDCD  Hoahoc  KHTN  KHXH  LichSu  \\\n",
       "0                 0  44000001    NaN   NaN    8.00  7.08   NaN     NaN   \n",
       "1                 1  44000002    NaN   NaN    8.25  7.17   NaN     NaN   \n",
       "2                 2  44000003    NaN   NaN    4.50  4.92   NaN     NaN   \n",
       "3                 3  44000004   7.50  9.25     NaN   NaN  8.67    9.25   \n",
       "4                 4  44000005   8.00  9.00     NaN   NaN  8.50    8.50   \n",
       "...             ...       ...    ...   ...     ...   ...   ...     ...   \n",
       "1051855     1051855  13007414   5.25  4.25     NaN   NaN  4.08    2.75   \n",
       "1051856     1051856  13007415   5.25  6.25     NaN   NaN  5.83    6.00   \n",
       "1051857     1051857  13007416   5.75  8.50     NaN   NaN  6.67    5.75   \n",
       "1051858     1051858  13007417   7.25  6.75     NaN   NaN  6.25    4.75   \n",
       "1051859     1051859  13007418   3.75  4.00     NaN   NaN  3.83    3.75   \n",
       "\n",
       "         Ngoaingu  Nguvan  Sinhhoc  Toan Vatli city  \n",
       "0             4.4    7.50     5.50   8.4  7.75   44  \n",
       "1             NaN    6.00     6.25   7.6  7.00   44  \n",
       "2             4.0    5.00     5.75   7.0  4.50   44  \n",
       "3             7.4    6.75      NaN   7.2   NaN   44  \n",
       "4             9.2    7.00      NaN   7.6   NaN   44  \n",
       "...           ...     ...      ...   ...   ...  ...  \n",
       "1051855       2.8    4.00      NaN   3.6   NaN   13  \n",
       "1051856       3.8    5.50      NaN   4.6   NaN   13  \n",
       "1051857       3.4    5.00      NaN   5.4   NaN   13  \n",
       "1051858       2.2    4.50      NaN   5.2   NaN   13  \n",
       "1051859       4.0    4.00      NaN   6.2   NaN   13  \n",
       "\n",
       "[1051860 rows x 14 columns]"
      ]
     },
     "execution_count": 13,
     "metadata": {},
     "output_type": "execute_result"
    }
   ],
   "source": [
    "df = pd.read_csv('datasets/Full_Mark_2020.csv', low_memory=False)\n",
    "\n",
    "df"
   ]
  },
  {
   "cell_type": "markdown",
   "metadata": {},
   "source": [
    "## Calculate mean, mode, median, standard deviation"
   ]
  },
  {
   "cell_type": "code",
   "execution_count": 20,
   "metadata": {},
   "outputs": [
    {
     "name": "stdout",
     "output_type": "stream",
     "text": [
      "Mean: 6.716490670567575\n",
      "Mode: 0    8.0\n",
      "Name: Toan, dtype: float64\n",
      "Median: 7.0\n",
      "Standard deviation: 1.8209654068698604\n"
     ]
    }
   ],
   "source": [
    "mean = df[\"Toan\"].mean()\n",
    "mode = df[\"Toan\"].mode()\n",
    "median = df[\"Toan\"].median()\n",
    "std = df[\"Toan\"].std()\n",
    "\n",
    "print(f\"Mean: {mean}\")\n",
    "print(f\"Mode: {mode}\")\n",
    "print(f\"Median: {median}\")\n",
    "print(f\"Standard deviation: {std}\")\n"
   ]
  },
  {
   "cell_type": "markdown",
   "metadata": {},
   "source": [
    "## Equal-width"
   ]
  },
  {
   "cell_type": "code",
   "execution_count": 39,
   "metadata": {},
   "outputs": [
    {
     "data": {
      "text/plain": [
       "[(2.979, 10.0], (2.979, 10.0], (10.0, 17.0], (10.0, 17.0], (17.0, 24.0], (17.0, 24.0]]\n",
       "Categories (3, interval[float64, right]): [(2.979, 10.0] < (10.0, 17.0] < (17.0, 24.0]]"
      ]
     },
     "execution_count": 39,
     "metadata": {},
     "output_type": "execute_result"
    }
   ],
   "source": [
    "arr = [3, 5, 11, 12, 20, 24]\n",
    "k=3\n",
    "\n",
    "pd.cut(arr, k)"
   ]
  },
  {
   "cell_type": "markdown",
   "metadata": {},
   "source": [
    "\n",
    "## Equal Frequency"
   ]
  },
  {
   "cell_type": "code",
   "execution_count": 85,
   "metadata": {},
   "outputs": [
    {
     "data": {
      "text/plain": [
       "[[3, 8.0], [4.0, 11.5], [8.0, 16.0], [11.5, 20.0], [16.0, 20]]"
      ]
     },
     "execution_count": 85,
     "metadata": {},
     "output_type": "execute_result"
    }
   ],
   "source": [
    "arr = [3, 5, 11, 12, 20]\n",
    "k=2\n",
    "\n",
    "borders = []\n",
    "i = 0\n",
    "\n",
    "while i < len(arr):\n",
    "    border = [0,0]\n",
    "\n",
    "    if i == 0:\n",
    "        border[0] = arr[i]\n",
    "    else:\n",
    "        border[0] = (arr[i] + arr[i-1]) / 2\n",
    "\n",
    "    if i == len(arr) - 1:\n",
    "        border[1] = arr[i]\n",
    "    else:\n",
    "        try:\n",
    "            border[1] = (arr[i+k-1] + arr[i+k]) / 2\n",
    "        except:\n",
    "            border[1] = (arr[i+k-1] + arr[-1]) / 2\n",
    "\n",
    "    borders.append(border)\n",
    "    i+=1\n",
    "\n",
    "borders"
   ]
  }
 ],
 "metadata": {
  "kernelspec": {
   "display_name": "Python 3.10.0 64-bit",
   "language": "python",
   "name": "python3"
  },
  "language_info": {
   "codemirror_mode": {
    "name": "ipython",
    "version": 3
   },
   "file_extension": ".py",
   "mimetype": "text/x-python",
   "name": "python",
   "nbconvert_exporter": "python",
   "pygments_lexer": "ipython3",
   "version": "3.10.0"
  },
  "orig_nbformat": 4,
  "vscode": {
   "interpreter": {
    "hash": "ab76a0442e3a6fd1bf134ccbe6d90b579197e210df485d3b2e6fb029049467ee"
   }
  }
 },
 "nbformat": 4,
 "nbformat_minor": 2
}
