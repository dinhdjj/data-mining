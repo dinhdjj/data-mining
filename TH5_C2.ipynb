{
 "cells": [
  {
   "cell_type": "code",
   "execution_count": 11,
   "metadata": {},
   "outputs": [],
   "source": [
    "import pandas as pd\n",
    "from math import isnan"
   ]
  },
  {
   "cell_type": "code",
   "execution_count": 12,
   "metadata": {},
   "outputs": [],
   "source": [
    "df = pd.read_csv('datasets/Hcm_Mark_2020.csv')"
   ]
  },
  {
   "cell_type": "code",
   "execution_count": 13,
   "metadata": {},
   "outputs": [],
   "source": [
    "df = df.loc[\n",
    "    (df['Ngoaingu'].notnull()) \n",
    "    & (df['Toan'].notnull()) \n",
    "    & (df['Nguvan'].notnull())\n",
    "    & ~(df['KHTN'].isnull() & df['KHXH'].isnull())\n",
    "]\n",
    "\n",
    "def mon1(row):\n",
    "    if not isnan(row['KHTN']):\n",
    "        return row['Hoahoc']\n",
    "    return row['GDCD']\n",
    "\n",
    "def mon2(row):\n",
    "    if not isnan(row['KHTN']):\n",
    "        return row['Vatli']\n",
    "    return row['Diali']\n",
    "\n",
    "def mon3(row):\n",
    "    if not isnan(row['KHTN']):\n",
    "        return row['Sinhhoc']\n",
    "    return row['LichSu']\n",
    "\n",
    "df['Mon1'] =  df.apply(mon1, axis=1);\n",
    "df['Mon2'] =  df.apply(mon2, axis=1);\n",
    "df['Mon3'] =  df.apply(mon3, axis=1);\n",
    "\n",
    "df = df.loc[:, ['Toan', 'Nguvan', 'Ngoaingu', 'Mon1', 'Mon2', 'Mon3']]"
   ]
  },
  {
   "cell_type": "code",
   "execution_count": 14,
   "metadata": {},
   "outputs": [],
   "source": [
    "df['DiemTrungBinh'] = df.mean(axis=1)\n",
    "\n",
    "def all_greater_than_or_equal(obj, diem):\n",
    "    if(not isnan(obj['Mon1']) and obj['Mon1'] < diem):\n",
    "        return False\n",
    "\n",
    "    if(not isnan(obj['Mon2']) and obj['Mon2'] < diem):\n",
    "        return False\n",
    "\n",
    "    if(not isnan(obj['Mon3']) and obj['Mon3'] < diem):\n",
    "        return False\n",
    "\n",
    "    if(not isnan(obj['Ngoaingu']) and obj['Ngoaingu'] < diem):\n",
    "        return False\n",
    "\n",
    "    if(not isnan(obj['Nguvan']) and obj['Nguvan'] < diem):\n",
    "        return False\n",
    "\n",
    "    if(not isnan(obj['Toan']) and obj['Toan'] < diem):\n",
    "        return False\n",
    "\n",
    "    return True\n",
    "\n",
    "\n",
    "def xep_loai(row):\n",
    "    if not all_greater_than_or_equal(row, 1):\n",
    "        return 'rot'\n",
    "\n",
    "    if (row['DiemTrungBinh'] < 5):\n",
    "        return 'rot'\n",
    "\n",
    "    if row['DiemTrungBinh'] >= 8 and all_greater_than_or_equal(row, 7):\n",
    "        return 'gioi'\n",
    "\n",
    "    if row['DiemTrungBinh'] >= 6.5 and all_greater_than_or_equal(row, 6):\n",
    "        return 'kha'\n",
    "\n",
    "    return 'trungbinh'\n",
    "\n",
    "\n",
    "# https://pandas.pydata.org/docs/reference/api/pandas.DataFrame.apply.html\n",
    "df['XepLoai'] = df.apply(xep_loai, axis=1)"
   ]
  },
  {
   "cell_type": "code",
   "execution_count": 15,
   "metadata": {},
   "outputs": [],
   "source": [
    "\n",
    "df.to_csv('datasets/Hcm_Mark_2020_th5_c2.csv', index=False)"
   ]
  }
 ],
 "metadata": {
  "kernelspec": {
   "display_name": "Python 3.10.0 64-bit",
   "language": "python",
   "name": "python3"
  },
  "language_info": {
   "codemirror_mode": {
    "name": "ipython",
    "version": 3
   },
   "file_extension": ".py",
   "mimetype": "text/x-python",
   "name": "python",
   "nbconvert_exporter": "python",
   "pygments_lexer": "ipython3",
   "version": "3.10.0"
  },
  "orig_nbformat": 4,
  "vscode": {
   "interpreter": {
    "hash": "ab76a0442e3a6fd1bf134ccbe6d90b579197e210df485d3b2e6fb029049467ee"
   }
  }
 },
 "nbformat": 4,
 "nbformat_minor": 2
}
