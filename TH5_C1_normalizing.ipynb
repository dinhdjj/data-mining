{
 "cells": [
  {
   "cell_type": "code",
   "execution_count": 1,
   "metadata": {},
   "outputs": [],
   "source": [
    "import pandas as pd\n",
    "from math import isnan"
   ]
  },
  {
   "cell_type": "code",
   "execution_count": 2,
   "metadata": {},
   "outputs": [],
   "source": [
    "df = pd.read_csv('datasets/bank-data.csv')"
   ]
  },
  {
   "cell_type": "markdown",
   "metadata": {},
   "source": [
    "## Normalize age"
   ]
  },
  {
   "cell_type": "code",
   "execution_count": 3,
   "metadata": {},
   "outputs": [],
   "source": [
    "WEIGHT = 1\n",
    "\n",
    "max_age = df['age'].max()\n",
    "min_age = df['age'].min()\n",
    "\n",
    "def normalize_age(age):\n",
    "    return (age - min_age) / (max_age - min_age) * WEIGHT\n",
    "\n",
    "df['normalized_age'] = df['age'].apply(normalize_age)"
   ]
  },
  {
   "cell_type": "markdown",
   "metadata": {},
   "source": [
    "## Normalize sex"
   ]
  },
  {
   "cell_type": "code",
   "execution_count": 4,
   "metadata": {},
   "outputs": [],
   "source": [
    "WEIGHT = 1\n",
    "\n",
    "def normalize_sex(sex):\n",
    "    result = 0\n",
    "    if sex == 'FEMALE':\n",
    "        result = 1\n",
    "    \n",
    "    return result * WEIGHT\n",
    "\n",
    "df['normalized_sex'] = df['sex'].apply(normalize_sex)"
   ]
  },
  {
   "cell_type": "markdown",
   "metadata": {},
   "source": [
    "## Normalize region"
   ]
  },
  {
   "cell_type": "code",
   "execution_count": 5,
   "metadata": {},
   "outputs": [],
   "source": [
    "WEIGHT = 1\n",
    "\n",
    "types = {\n",
    "    'RURAL': 1,\n",
    "    'SUBURBAN': 0.6,\n",
    "    'TOWN': 0.3,\n",
    "    'INNER_CITY': 0,\n",
    "}\n",
    "\n",
    "def normalize_region(region):\n",
    "    return types[region] * WEIGHT\n",
    "\n",
    "df['normalized_region'] = df['region'].apply(normalize_region)"
   ]
  },
  {
   "cell_type": "markdown",
   "metadata": {},
   "source": [
    "## Normalize income"
   ]
  },
  {
   "cell_type": "code",
   "execution_count": 6,
   "metadata": {},
   "outputs": [],
   "source": [
    "WEIGHT = 2\n",
    "\n",
    "max_income = df['income'].max()\n",
    "min_income = df['income'].min()\n",
    "\n",
    "def normalize_income(income):\n",
    "    return (income - min_income) / (max_income - min_income) * WEIGHT\n",
    "\n",
    "df['normalized_income'] = df['income'].apply(normalize_income)"
   ]
  },
  {
   "cell_type": "markdown",
   "metadata": {},
   "source": [
    "## Normalize married"
   ]
  },
  {
   "cell_type": "code",
   "execution_count": 7,
   "metadata": {},
   "outputs": [],
   "source": [
    "WEIGHT = 2\n",
    "\n",
    "def normalize_married(married):\n",
    "    result = 0\n",
    "    if married == 'NO':\n",
    "        result = 1\n",
    "    \n",
    "    return result * WEIGHT\n",
    "\n",
    "df['normalized_married'] = df['married'].apply(normalize_married)"
   ]
  },
  {
   "cell_type": "markdown",
   "metadata": {},
   "source": [
    "## Normalize children"
   ]
  },
  {
   "cell_type": "code",
   "execution_count": 8,
   "metadata": {},
   "outputs": [],
   "source": [
    "WEIGHT = 1\n",
    "\n",
    "max_children = df['children'].max()\n",
    "min_children = df['children'].min()\n",
    "\n",
    "def normalize_children(children):\n",
    "    return (children - min_children) / (max_children - min_children) * WEIGHT\n",
    "\n",
    "df['normalized_children'] = df['children'].apply(normalize_children)"
   ]
  },
  {
   "cell_type": "markdown",
   "metadata": {},
   "source": [
    "## Normalize car"
   ]
  },
  {
   "cell_type": "code",
   "execution_count": 9,
   "metadata": {},
   "outputs": [],
   "source": [
    "WEIGHT = 2\n",
    "\n",
    "def normalize_car(car):\n",
    "    result = 0\n",
    "    if car == 'NO':\n",
    "        result = 1\n",
    "    \n",
    "    return result * WEIGHT\n",
    "\n",
    "df['normalized_car'] = df['car'].apply(normalize_car)"
   ]
  },
  {
   "cell_type": "markdown",
   "metadata": {},
   "source": [
    "## Normalize save_act"
   ]
  },
  {
   "cell_type": "code",
   "execution_count": 10,
   "metadata": {},
   "outputs": [],
   "source": [
    "WEIGHT = 1\n",
    "\n",
    "def normalize_save_act(save_act):\n",
    "    result = 0\n",
    "    if save_act == 'NO':\n",
    "        result = 1\n",
    "    \n",
    "    return result * WEIGHT\n",
    "\n",
    "df['normalized_save_act'] = df['save_act'].apply(normalize_save_act)"
   ]
  },
  {
   "cell_type": "markdown",
   "metadata": {},
   "source": [
    "## Normalize current_act"
   ]
  },
  {
   "cell_type": "code",
   "execution_count": 11,
   "metadata": {},
   "outputs": [],
   "source": [
    "WEIGHT = 1\n",
    "\n",
    "def normalize_current_act(current_act):\n",
    "    result = 0\n",
    "    if current_act == 'NO':\n",
    "        result = 1\n",
    "    \n",
    "    return result * WEIGHT\n",
    "\n",
    "df['normalized_current_act'] = df['current_act'].apply(normalize_current_act)"
   ]
  },
  {
   "cell_type": "markdown",
   "metadata": {},
   "source": [
    "## Normalize mortgage"
   ]
  },
  {
   "cell_type": "code",
   "execution_count": 12,
   "metadata": {},
   "outputs": [],
   "source": [
    "WEIGHT = 2\n",
    "\n",
    "def normalize_mortgage(mortgage):\n",
    "    result = 0\n",
    "    if mortgage == 'NO':\n",
    "        result = 1\n",
    "    \n",
    "    return result * WEIGHT\n",
    "\n",
    "df['normalized_mortgage'] = df['mortgage'].apply(normalize_mortgage)"
   ]
  },
  {
   "cell_type": "markdown",
   "metadata": {},
   "source": [
    "## Save to file"
   ]
  },
  {
   "cell_type": "code",
   "execution_count": 13,
   "metadata": {},
   "outputs": [],
   "source": [
    "columns = df.columns\n",
    "\n",
    "columns = [col for col in columns if col.startswith('normalized')]\n",
    "\n",
    "columns.append('pep')\n",
    "\n",
    "df.loc[:, columns].to_csv('datasets/normalized-bank-data.csv', index=False)"
   ]
  }
 ],
 "metadata": {
  "kernelspec": {
   "display_name": "Python 3.10.0 64-bit",
   "language": "python",
   "name": "python3"
  },
  "language_info": {
   "codemirror_mode": {
    "name": "ipython",
    "version": 3
   },
   "file_extension": ".py",
   "mimetype": "text/x-python",
   "name": "python",
   "nbconvert_exporter": "python",
   "pygments_lexer": "ipython3",
   "version": "3.10.0"
  },
  "orig_nbformat": 4,
  "vscode": {
   "interpreter": {
    "hash": "ab76a0442e3a6fd1bf134ccbe6d90b579197e210df485d3b2e6fb029049467ee"
   }
  }
 },
 "nbformat": 4,
 "nbformat_minor": 2
}
